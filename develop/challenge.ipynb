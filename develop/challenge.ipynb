{
 "cells": [
  {
   "cell_type": "code",
   "execution_count": null,
   "metadata": {},
   "outputs": [],
   "source": [
    "from googleapiclient.discovery import build\n",
    "from googleapiclient.http import MediaIoBaseDownload\n",
    "from google.oauth2 import service_account\n",
    "import io\n",
    "import json\n",
    "import pandas as pd\n",
    "import pandasql as psql\n",
    "import zipfile\n",
    "import regex\n",
    "from collections import Counter\n",
    "\n",
    "\n",
    "ID =\"1ig2ngoXFTxP5Pa8muXo02mDTFexZzsis\"\n",
    "CREDS_PATH = \"../develop/creds.json\"\n",
    "FILENAME = \"tweets\"\n",
    "\n",
    "\n",
    "with open(CREDS_PATH, 'r') as file:\n",
    "    credz = json.load(file)\n",
    "\n",
    "\n",
    "def download_file(credz, file_name):\n",
    "    credentials = service_account.Credentials.from_service_account_info(credz)\n",
    "    drive_service = build('drive', 'v3', credentials=credentials)\n",
    "\n",
    "    request = drive_service.files().get_media(fileId=ID)\n",
    "    #fh = io.BytesIO() # this can be used to keep in memory\n",
    "    fh = io.FileIO(f'{file_name}.zip', 'wb')\n",
    "    downloader = MediaIoBaseDownload(fh, request)\n",
    "    done = False\n",
    "    while done is False:\n",
    "        status, done = downloader.next_chunk()\n",
    "\n",
    "\n",
    "def convert_to_parquet(file_name):\n",
    "    # Replace 'file_path.zip' with the path to your zipped file\n",
    "    with zipfile.ZipFile(f'{file_name}.zip', 'r') as z:\n",
    "        # Assuming there's only one file in the zip archive\n",
    "        file_in_zip = z.namelist()[0]\n",
    "        with z.open(file_in_zip) as f:\n",
    "            # Load the JSON file into a DataFrame\n",
    "            df = pd.read_json(f, lines=True)\n",
    "    df.to_parquet(f'{file_name}.parquet')\n",
    "\n",
    "\n",
    "download_file(credz, FILENAME)\n",
    "convert_to_parquet(FILENAME)\n",
    "df = pd.read_parquet(f'../develop/{FILENAME}.parquet')"
   ]
  }
 ],
 "metadata": {
  "language_info": {
   "name": "python"
  }
 },
 "nbformat": 4,
 "nbformat_minor": 2
}
